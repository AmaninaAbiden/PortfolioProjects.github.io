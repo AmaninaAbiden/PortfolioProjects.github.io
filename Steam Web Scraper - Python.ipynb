{
 "cells": [
  {
   "cell_type": "code",
   "execution_count": 1,
   "id": "91afdc20",
   "metadata": {},
   "outputs": [],
   "source": [
    "import requests\n",
    "from bs4 import BeautifulSoup\n",
    "import json\n",
    "import pandas as pd\n",
    "import time"
   ]
  },
  {
   "cell_type": "code",
   "execution_count": 80,
   "id": "603ecc22",
   "metadata": {},
   "outputs": [],
   "source": [
    "url = 'https://store.steampowered.com/search/results/?query&start=0&count=50&dynamic_data=&sort_by=_ASC&tags=4182&snr=1_7_7_2300_7&specials=1&filter=topsellers&infinite=1'\n",
    "\n",
    "def totalresults(url):\n",
    "    r = requests.get(url)\n",
    "    data = dict(r.json())\n",
    "    totalresults = data['total_count']\n",
    "    return int(totalresults)\n",
    "\n",
    "def get_data(url):\n",
    "    r = requests.get(url)\n",
    "    data = dict(r.json())\n",
    "    return data['results_html']\n",
    "\n",
    "#print (get_data(url))"
   ]
  },
  {
   "cell_type": "code",
   "execution_count": 81,
   "id": "2b5774ba",
   "metadata": {},
   "outputs": [],
   "source": [
    "def parse(data):\n",
    "    gameslist = []\n",
    "    soup = BeautifulSoup(data, 'html.parser')\n",
    "    games = soup.find_all('a')\n",
    "    for game in games:\n",
    "        title = game.find('span', {'class': 'title'}).text\n",
    "        try:\n",
    "            date_released = game.find('div', {'class' : 'search_released'}).text\n",
    "        except:\n",
    "            date_released = ' '\n",
    "        original_price = game.find('div', {'class': 'search_price'}).text.strip().split('RM')[1]\n",
    "        try:\n",
    "            discount_price = game.find('div', {'class': 'search_price'}).text.strip().split('RM')[2]\n",
    "        except:\n",
    "            discount_price = original_price\n",
    "        try:\n",
    "            review = game.find('span', {'data-tooltip-html': True})[\"data-tooltip-html\"]\n",
    "        except:\n",
    "            review = ' '\n",
    "        #print(title, date_released, original_price, discount_price, review)\n",
    "\n",
    "        mygame ={\n",
    "            'title': title,\n",
    "            'date_released': date_released,\n",
    "            'original_price': original_price,\n",
    "            'discount_price': discount_price,\n",
    "            'review': review\n",
    "        }\n",
    "        gameslist.append(mygame)\n",
    "    return gameslist"
   ]
  },
  {
   "cell_type": "code",
   "execution_count": 82,
   "id": "00f7cd1c",
   "metadata": {},
   "outputs": [],
   "source": [
    "def output(results):\n",
    "    gamesdf = pd.concat([pd.DataFrame(g) for g in results])\n",
    "    gamesdf.to_csv('SteamTopSellerSpecialOfferPrices_Singleplayer.csv', index=False)\n",
    "    print('Fin. Saved to CSV')\n",
    "    print(gamesdf.head())\n",
    "    return"
   ]
  },
  {
   "cell_type": "code",
   "execution_count": 84,
   "id": "702930bf",
   "metadata": {},
   "outputs": [],
   "source": [
    "results = []\n",
    "for x in range(0, totalresults(url), 50):\n",
    "    data = get_data(f'https://store.steampowered.com/search/results/?query&start={x}&count=50&dynamic_data=&sort_by=_ASC&tags=4182&snr=1_7_7_2300_7&specials=1&filter=topsellers&infinite=1')\n",
    "    results.append(parse(data))\n",
    "    #print('Results Scraped: ', x)\n",
    "    time.sleep(1.5)"
   ]
  },
  {
   "cell_type": "code",
   "execution_count": 85,
   "id": "842ef4d0",
   "metadata": {},
   "outputs": [
    {
     "name": "stdout",
     "output_type": "stream",
     "text": [
      "Fin. Saved to CSV\n",
      "                                 title date_released original_price  \\\n",
      "0                   Battlefield Bundle                       567.00   \n",
      "1  Fallout 4: Game of the Year Edition  10 Nov, 2015         167.48   \n",
      "2                        Battlefield V  22 Oct, 2020         249.00   \n",
      "3        Disco Elysium - The Final Cut  15 Oct, 2019          65.00   \n",
      "4              Gladiator Guild Manager  13 Oct, 2021          25.00   \n",
      "\n",
      "  discount_price                                             review  \n",
      "0          47.29  Mostly Positive<br>78% of the 129,057 user rev...  \n",
      "1          41.87  Mostly Positive<br>78% of the 170,391 user rev...  \n",
      "2          24.90  Mixed<br>69% of the 59,724 user reviews for th...  \n",
      "3          35.75  Very Positive<br>94% of the 38,483 user review...  \n",
      "4          22.50  Very Positive<br>89% of the 77 user reviews fo...  \n"
     ]
    }
   ],
   "source": [
    "output(results)"
   ]
  },
  {
   "cell_type": "code",
   "execution_count": null,
   "id": "59ca6b00",
   "metadata": {},
   "outputs": [],
   "source": []
  }
 ],
 "metadata": {
  "kernelspec": {
   "display_name": "Python 3 (ipykernel)",
   "language": "python",
   "name": "python3"
  },
  "language_info": {
   "codemirror_mode": {
    "name": "ipython",
    "version": 3
   },
   "file_extension": ".py",
   "mimetype": "text/x-python",
   "name": "python",
   "nbconvert_exporter": "python",
   "pygments_lexer": "ipython3",
   "version": "3.8.8"
  }
 },
 "nbformat": 4,
 "nbformat_minor": 5
}
